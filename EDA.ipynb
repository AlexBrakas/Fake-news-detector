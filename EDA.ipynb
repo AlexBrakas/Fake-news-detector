{
 "cells": [
  {
   "cell_type": "markdown",
   "id": "5ea2bc6b",
   "metadata": {},
   "source": [
    "# Fake News Detection\n",
    "### Alex Brakas"
   ]
  },
  {
   "cell_type": "markdown",
   "id": "f61c006b",
   "metadata": {},
   "source": [
    "We will explore the three different datasets, train, test, evaluation. We will check to the distribution and look for empty/null records within the dataset"
   ]
  }
 ],
 "metadata": {
  "kernelspec": {
   "display_name": ".venv",
   "language": "python",
   "name": "python3"
  },
  "language_info": {
   "name": "python",
   "version": "3.12.4"
  }
 },
 "nbformat": 4,
 "nbformat_minor": 5
}
